{
 "cells": [
  {
   "cell_type": "markdown",
   "id": "8e2eb277-3943-4f63-aad9-357fd20998d9",
   "metadata": {},
   "source": [
    "# Cryptopals solutions\n",
    "\n",
    "Python notebook solutions to [the cryptopals crypto challenges](https://cryptopals.com).  What is cryptopals?  From the website:\n",
    "\n",
    "> This is a different way to learn about crypto than taking a class or reading a book.  We give you problems to solve.  They're derived from weaknesses in real-world systems and modern cryptographic constructions.  We give you enough info to learn about the underlying crypto concepts yourself.  When you're finished, you'll not only have learned a good deal about how cryptosystems are built, but you'll also understand how they're attacked.\n",
    "\n",
    "Solutions:\n",
    "\n",
    "- [Set 1](set-1.html)\n",
    "- [Set 2](set-2.html)\n",
    "- [Set 3](set-3.html)\n",
    "- [Set 4](set-4.html)\n",
    "- [Set 5](set-5.html)"
   ]
  }
 ],
 "metadata": {
  "kernelspec": {
   "display_name": "Python 3 (ipykernel)",
   "language": "python",
   "name": "python3"
  },
  "language_info": {
   "codemirror_mode": {
    "name": "ipython",
    "version": 3
   },
   "file_extension": ".py",
   "mimetype": "text/x-python",
   "name": "python",
   "nbconvert_exporter": "python",
   "pygments_lexer": "ipython3",
   "version": "3.10.15"
  }
 },
 "nbformat": 4,
 "nbformat_minor": 5
}
