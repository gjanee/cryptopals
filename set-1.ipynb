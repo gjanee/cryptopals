{
 "cells": [
  {
   "cell_type": "markdown",
   "id": "777567b2-25e4-4c0e-bef5-bab552d633ad",
   "metadata": {
    "tags": []
   },
   "source": [
    "# Set 1: Basics\n",
    "\n",
    "This is the **qualifying set**.  We picked the exercises in it to ramp developers up gradually into coding cryptography, but also to verify that we were working with people who were ready to write code.\n",
    "\n",
    "This set is **relatively easy**.  With one exception, most of these exercises should take only a couple minutes.  But don't beat yourself up if it takes longer than that.  It took Alex two weeks to get through the set!\n",
    "\n",
    "If you've written any crypto code in the past, you're going to feel like skipping a lot of this.  Don't skip them.  At least two of them (we won't say which) are important stepping stones to later attacks.\n",
    "\n",
    "- [Preliminaries](#Preliminaries)\n",
    "- [Challenge 1: Convert hex to base64](#Challenge-1:-Convert-hex-to-base64)\n",
    "- [Challenge 2: Fixed XOR](#Challenge-2:-Fixed-XOR)\n",
    "- [Challenge 3: Single-byte XOR cipher](#Challenge-3:-Single-byte-XOR-cipher)\n",
    "- [Challenge 4: Detect single-character XOR](#Challenge-4:-Detect-single-character-XOR)\n",
    "- [Challenge 5: Implement repeating-key XOR](#Challenge-5:-Implement-repeating-key-XOR)\n",
    "- [Challenge 6: Break repeating-key XOR](#Challenge-6:-Break-repeating-key-XOR)\n",
    "- [Challenge 7: AES in ECB mode](#Challenge-7:-AES-in-ECB-mode)\n",
    "- [Challenge 8: Detect AES in ECB mode](#Challenge-8:-Detect-AES-in-ECB-mode)\n",
    "\n",
    "## Preliminaries\n",
    "\n",
    "This notebook uses [pyca/cryptography](https://cryptography.io/en/latest/) (imported farther below)."
   ]
  },
  {
   "cell_type": "code",
   "execution_count": 1,
   "id": "972bc36a-7d02-4ffe-9d08-264c1a43b878",
   "metadata": {},
   "outputs": [],
   "source": [
    "import base64\n",
    "from collections import Counter\n",
    "from itertools import product\n",
    "from math import prod\n",
    "\n",
    "import pandas as pd\n",
    "import matplotlib.pyplot as plt"
   ]
  },
  {
   "cell_type": "markdown",
   "id": "a314ef53-7e25-4263-9f4b-cd2a55f1c070",
   "metadata": {},
   "source": [
    "## Challenge 1: Convert hex to base64\n",
    "\n",
    "The string:\n",
    "\n",
    "```\n",
    "49276d206b696c6c696e6720796f757220627261696e206c696b65206120706f69736f6e6f7573206d757368726f6f6d\n",
    "```\n",
    "\n",
    "Should produce:\n",
    "\n",
    "```\n",
    "SSdtIGtpbGxpbmcgeW91ciBicmFpbiBsaWtlIGEgcG9pc29ub3VzIG11c2hyb29t\n",
    "```\n",
    "\n",
    "So go ahead and make that happen.  You'll need to use this code for the rest of the exercises.\n",
    "\n",
    "> **Cryptopals Rule**\n",
    ">\n",
    "> Always operate on raw bytes, never on encoded strings.  Only use hex and base64 for pretty-printing."
   ]
  },
  {
   "cell_type": "code",
   "execution_count": 2,
   "id": "7908f765-37b1-4b1c-9aea-7ad08dc7004c",
   "metadata": {},
   "outputs": [
    {
     "name": "stdout",
     "output_type": "stream",
     "text": [
      "b'SSdtIGtpbGxpbmcgeW91ciBicmFpbiBsaWtlIGEgcG9pc29ub3VzIG11c2hyb29t'\n"
     ]
    }
   ],
   "source": [
    "input = \"49276d206b696c6c696e6720796f757220627261696e206c696b65206120706f69736f6e6f7573206d757368726f6f6d\"\n",
    "output = base64.b64encode(bytes.fromhex(input))\n",
    "print(output)"
   ]
  },
  {
   "cell_type": "markdown",
   "id": "b1cf4777-d1f4-47a1-87cb-385037e75248",
   "metadata": {},
   "source": [
    "## Challenge 2: Fixed XOR\n",
    "\n",
    "Write a function that takes two equal-length buffers and produces their XOR combination.\n",
    "\n",
    "If your function works properly, then when you feed it the string:\n",
    "\n",
    "```\n",
    "1c0111001f010100061a024b53535009181c\n",
    "```\n",
    "\n",
    "... after hex decoding, and when XOR'd against:\n",
    "\n",
    "```\n",
    "686974207468652062756c6c277320657965\n",
    "```\n",
    "\n",
    "... should produce:\n",
    "\n",
    "```\n",
    "746865206b696420646f6e277420706c6179\n",
    "```"
   ]
  },
  {
   "cell_type": "code",
   "execution_count": 3,
   "id": "68eda030-08fd-44fe-b640-4751cccee3ec",
   "metadata": {},
   "outputs": [
    {
     "name": "stdout",
     "output_type": "stream",
     "text": [
      "746865206b696420646f6e277420706c6179\n"
     ]
    }
   ],
   "source": [
    "def xor(x, y):\n",
    "    return bytes(xb^yb for xb, yb in zip(x, y))\n",
    "\n",
    "x = bytes.fromhex(\"1c0111001f010100061a024b53535009181c\")\n",
    "y = bytes.fromhex(\"686974207468652062756c6c277320657965\")\n",
    "\n",
    "print(xor(x, y).hex())"
   ]
  },
  {
   "cell_type": "markdown",
   "id": "34c2a525-11e9-4cc3-9e24-cd5c6825af65",
   "metadata": {},
   "source": [
    "## Challenge 3: Single-byte XOR cipher\n",
    "\n",
    "The hex encoded string:\n",
    "\n",
    "```\n",
    "1b37373331363f78151b7f2b783431333d78397828372d363c78373e783a393b3736\n",
    "```\n",
    "\n",
    "... has been XOR'd against a single character.  Find the key, decrypt the message.\n",
    "\n",
    "You can do this by hand.  But don't: write code to do it for you.\n",
    "\n",
    "How?  Devise some method for \"scoring\" a piece of English plaintext.  Character frequency is a good metric.  Evaluate each output and choose the one with the best score.\n",
    "\n",
    "> **Achievement Unlocked**\n",
    ">\n",
    "> You now have our permission to make \"ETAOIN SHRDLU\" jokes on Twitter.\n",
    "\n",
    "---\n",
    "\n",
    "The English letter frequencies below were obtained from Peter Norvig's [English Letter Frequency Counts: Mayzner Revisited or ETAOIN SRHLDCU](http://www.norvig.com/mayzner.html), which is a slight revision of the classic ordering, [ETAOIN SHRDLU](https://en.wikipedia.org/wiki/Etaoin_shrdlu).  We score text using a probabilistic 1-gram model, that is, the score of a text is the product of the likelihoods of the individual characters.  (Ordinarily it would be necessary to switch from multiplying likelihoods to adding logarithms of likelihoods to avoid underflow, but this example is small enough that that is not necessary.)  To get frequencies for characters other than the 26 letters, we could use something fancy like [Witten-Bell smoothing](https://doi.org/10.1109/18.87000), but for the purpose here it is sufficient to assign an arbitrary low frequency to other characters that might plausibly appear, and 0 to characters that should never appear."
   ]
  },
  {
   "cell_type": "code",
   "execution_count": 4,
   "id": "94e4720a-03f9-49c4-9dfc-5ffcf727d0bb",
   "metadata": {},
   "outputs": [
    {
     "name": "stdout",
     "output_type": "stream",
     "text": [
      "b\"Cooking MC's like a pound of bacon\"\n"
     ]
    }
   ],
   "source": [
    "letter_frequencies = {\n",
    "    \"E\": 0.1249,\n",
    "    \"T\": 0.0928,\n",
    "    \"A\": 0.0804,\n",
    "    \"O\": 0.0764,\n",
    "    \"I\": 0.0757,\n",
    "    \"N\": 0.0723,\n",
    "    \"S\": 0.0651,\n",
    "    \"R\": 0.0628,\n",
    "    \"H\": 0.0505,\n",
    "    \"L\": 0.0407,\n",
    "    \"D\": 0.0382,\n",
    "    \"C\": 0.0334,\n",
    "    \"U\": 0.0273,\n",
    "    \"M\": 0.0251,\n",
    "    \"F\": 0.0240,\n",
    "    \"P\": 0.0214,\n",
    "    \"G\": 0.0187,\n",
    "    \"W\": 0.0168,\n",
    "    \"Y\": 0.0166,\n",
    "    \"B\": 0.0148,\n",
    "    \"V\": 0.0105,\n",
    "    \"K\": 0.0054,\n",
    "    \"X\": 0.0023,\n",
    "    \"J\": 0.0016,\n",
    "    \"Q\": 0.0012,\n",
    "    \"Z\": 0.0009\n",
    "}\n",
    "\n",
    "def score(ptext):\n",
    "    def value(b):\n",
    "        c = chr(b).upper()\n",
    "        if c in letter_frequencies:\n",
    "            return letter_frequencies[c]\n",
    "        elif c.isprintable() or c in \"\\t\\r\\n\":\n",
    "            return min(letter_frequencies.values())\n",
    "        else:\n",
    "            return 0\n",
    "    return prod(value(b) for b in ptext)\n",
    "\n",
    "def brute_force_decrypt_xor(ctext):\n",
    "    # Return the highest-scored plaintext and its score\n",
    "    ptexts = [\n",
    "        bytes(b^key for b in ctext)\n",
    "        for key in range(256)\n",
    "    ]\n",
    "    return max(\n",
    "        ({\"plaintext\": pt, \"score\": score(pt)} for pt in ptexts),\n",
    "        key=lambda d: d[\"score\"]\n",
    "    )\n",
    "\n",
    "ciphertext = bytes.fromhex(\"1b37373331363f78151b7f2b783431333d78397828372d363c78373e783a393b3736\")\n",
    "output = brute_force_decrypt_xor(ciphertext)\n",
    "print(output[\"plaintext\"])"
   ]
  },
  {
   "cell_type": "markdown",
   "id": "bcc22e58-6ff9-4d8e-a075-59212cb22a40",
   "metadata": {},
   "source": [
    "## Challenge 4: Detect single-character XOR\n",
    "\n",
    "One of the 60-character strings in [this file](https://cryptopals.com/static/challenge-data/4.txt) has been encrypted by single-character XOR.\n",
    "\n",
    "Find it.\n",
    "\n",
    "(Your code from \\#3 should help.)"
   ]
  },
  {
   "cell_type": "code",
   "execution_count": 5,
   "id": "4e105264-a2c2-47a8-8d27-506e2e751130",
   "metadata": {},
   "outputs": [
    {
     "name": "stdout",
     "output_type": "stream",
     "text": [
      "b'Now that the party is jumping\\n'\n"
     ]
    }
   ],
   "source": [
    "print(\n",
    "    max(\n",
    "        (brute_force_decrypt_xor(bytes.fromhex(l.strip())) for l in open(\"04.in\")),\n",
    "        key=lambda d: d[\"score\"]\n",
    "    )[\"plaintext\"]\n",
    ")"
   ]
  },
  {
   "cell_type": "markdown",
   "id": "ea16a264-b3e9-4d75-b4ad-8a45d3575b46",
   "metadata": {},
   "source": [
    "## Challenge 5: Implement repeating-key XOR\n",
    "\n",
    "Here is the opening stanza of an important work of the English language:\n",
    "\n",
    "> Burning 'em, if you ain't quick and nimble\\\n",
    "> I go crazy when I hear a cymbal\n",
    "\n",
    "Encrypt it, under the key \"ICE\", using repeating-key XOR.\n",
    "\n",
    "In repeating-key XOR, you'll sequentially apply each byte of the key; the first byte of plaintext will be XOR'd against I, the next C, the next E, then I again for the 4th byte, and so on.\n",
    "\n",
    "It should come out to:\n",
    "\n",
    "```\n",
    "0b3637272a2b2e63622c2e69692a23693a2a3c6324202d623d63343c2a26226324272765272\n",
    "a282b2f20430a652e2c652a3124333a653e2b2027630c692b20283165286326302e27282f\n",
    "```\n",
    "\n",
    "Encrypt a bunch of stuff using your repeating-key XOR function.  Encrypt your mail.  Encrypt your password file.  Your .sig file.  Get a feel for it.  I promise, we aren't wasting your time with this."
   ]
  },
  {
   "cell_type": "code",
   "execution_count": 6,
   "id": "936ed084-67e1-48d3-9cfc-8f4a2f832354",
   "metadata": {},
   "outputs": [
    {
     "name": "stdout",
     "output_type": "stream",
     "text": [
      "0b3637272a2b2e63622c2e69692a23693a2a3c6324202d623d63343c2a26226324272765272a282b2f20430a652e2c652a3124333a653e2b2027630c692b20283165286326302e27282f\n"
     ]
    }
   ],
   "source": [
    "input = b\"\"\"Burning 'em, if you ain't quick and nimble\n",
    "I go crazy when I hear a cymbal\"\"\"\n",
    "\n",
    "key = b\"ICE\"\n",
    "\n",
    "def encrypt_repeating_xor(ptext, key):\n",
    "    return bytes(ptext[i]^key[i%len(key)] for i in range(len(ptext)))\n",
    "\n",
    "print(encrypt_repeating_xor(input, key).hex())"
   ]
  },
  {
   "cell_type": "markdown",
   "id": "e2a3185e-2f43-461b-b489-3d6c7a6b687f",
   "metadata": {
    "tags": []
   },
   "source": [
    "## Challenge 6: Break repeating-key XOR\n",
    "\n",
    "> **It is officially on, now.**\n",
    ">\n",
    "> This challenge isn't conceptually hard, but it involves actual error-prone coding.  The other challenges in this set are there to bring you up to speed.  This one is there to qualify you.  If you can do this one, you're probably just fine up to Set 6.\n",
    "\n",
    "[There's a file here](https://cryptopals.com/static/challenge-data/6.txt).  It's been base64'd after being encrypted with repeating-key XOR.\n",
    "\n",
    "Decrypt it.\n",
    "\n",
    "Here's how:\n",
    "\n",
    "1. Let KEYSIZE be the guessed length of the key; try values from 2 to (say) 40.\n",
    "\n",
    "2. Write a function to compute the edit distance/Hamming distance between two strings.  _The Hamming distance is just the number of differing bits._  The distance between:\n",
    "\n",
    "   `this is a test`\n",
    "\n",
    "   and\n",
    "\n",
    "   `wokka wokka!!!`\n",
    "\n",
    "   is 37.  _Make sure your code agrees before you proceed._\n",
    "\n",
    "3. For each KEYSIZE, take the first KEYSIZE worth of bytes, and the second KEYSIZE worth of bytes, and find the edit distance between them.  Normalize this result by dividing by KEYSIZE.\n",
    "\n",
    "4. The KEYSIZE with the smallest normalized edit distance is probably the key.  You could proceed perhaps with the smallest 2-3 KEYSIZE values.  Or take 4 KEYSIZE blocks instead of 2 and average the distances.\n",
    "\n",
    "5. Now that you probably know the KEYSIZE: break the ciphertext into blocks of KEYSIZE length.\n",
    "\n",
    "6. Now transpose the blocks: make a block that is the first byte of every block, and a block that is the second byte of every block, and so on.\n",
    "\n",
    "7. Solve each block as if it was single-character XOR.  You already have code to do this.\n",
    "\n",
    "8. For each block, the single-byte XOR key that produces the best looking histogram is the repeating-key XOR key byte for that block.  Put them together and you have the key.\n",
    "\n",
    "This code is going to turn out to be surprisingly useful later on.  Breaking repeating-key XOR (\"Vigenère\") statistically is obviously an academic exercise, a \"Crypto 101\" thing.  But more people \"know how\" to break it than can actually break it, and a similar technique breaks something much more important.\n",
    "\n",
    "> **No, that's not a mistake.**\n",
    ">\n",
    "> We get more tech support questions for this challenge than any of the other ones.  We promise, there aren't any blatant errors in this text.  In particular: the \"wokka wokka!!!\" edit distance really is 37.\n",
    "\n",
    "---\n",
    "\n",
    "The method for finding KEYSIZE is interesting.  It seems to rely on two properties.  First—and this comes as a surprise to us—the Hamming distance between likely bytes such as alphabetic letters is, on average, less than the distance between random bytes.  We can see this for ourselves as follows:"
   ]
  },
  {
   "cell_type": "code",
   "execution_count": 7,
   "id": "f2116e32-e738-4b47-9a52-a5674f66a4af",
   "metadata": {},
   "outputs": [
    {
     "name": "stdout",
     "output_type": "stream",
     "text": [
      "Weighted average edit distance between letters: 2.4\n",
      "Average edit distance between random bytes: 4.0\n"
     ]
    }
   ],
   "source": [
    "def hamming_distance(x, y):\n",
    "    return sum((xb^yb).bit_count() for xb, yb in zip(x, y))\n",
    "\n",
    "d = sum(\n",
    "    (\n",
    "        hamming_distance(bytes(x, encoding=\"ASCII\"), bytes(y, encoding=\"ASCII\"))\n",
    "        * letter_frequencies[x]\n",
    "        * letter_frequencies[y]\n",
    "    )\n",
    "    for x, y in product(letter_frequencies.keys(), repeat=2)\n",
    ")\n",
    "print(\"Weighted average edit distance between letters:\", round(d, 1))\n",
    "\n",
    "d = sum(\n",
    "    hamming_distance(bytes([x]), bytes([y]))/256**2\n",
    "    for x, y in product(range(256), repeat=2)\n",
    ")\n",
    "print(\"Average edit distance between random bytes:\", round(d, 1))"
   ]
  },
  {
   "cell_type": "markdown",
   "id": "5513dc1d-fbc9-4816-9244-d1483e0d1a23",
   "metadata": {},
   "source": [
    "Second, Hamming distance is invariant under XOR with a constant, that is, if $C_1 = P_1 \\oplus K$ and $C_2 = P_2 \\oplus K$, then $dist(C_1, C_2) = dist(P_1, P_2)$.  This accounts for why, with the correct KEYSIZE, the distance between corresponding ciphertext bytes in different blocks (= distance between corresponding plaintext bytes) will likely be smaller.\n",
    "\n",
    "However, as suggested by the problem statement, this is not foolproof.  Indeed, our solution finds the correct size (KEYSIZE=29) only by averaging the normalized distances over a window of 10 blocks; there are several other sizes that have similarly small distances.  The plot below shows distance as a function of KEYSIZE for window sizes of 2, 3, 5, and 10 blocks."
   ]
  },
  {
   "cell_type": "code",
   "execution_count": 8,
   "id": "bc916a9d-f163-4e1e-b813-6ede735a241e",
   "metadata": {},
   "outputs": [
    {
     "data": {
      "image/png": "[encoded data removed]",
      "text/plain": [
       "<Figure size 640x480 with 1 Axes>"
      ]
     },
     "metadata": {},
     "output_type": "display_data"
    }
   ],
   "source": [
    "ciphertext = base64.b64decode(open(\"06.in\").read())\n",
    "\n",
    "def distance(ks, window):\n",
    "    # Return the average normalized distance for a proposed KEYSIZE over a window of blocks\n",
    "    return sum(\n",
    "        hamming_distance(ciphertext[i*ks:(i+1)*ks], ciphertext[(i+1)*ks:(i+2)*ks]) / ks\n",
    "        for i in range(window)\n",
    "    ) / window\n",
    "\n",
    "keysize_range = range(2, 40)\n",
    "df = pd.DataFrame(index=keysize_range)\n",
    "\n",
    "for window in [2, 3, 5, 10]:\n",
    "    df[f\"w{window}\"] = [distance(ks, window) for ks in df.index]\n",
    "\n",
    "for col in df.columns:\n",
    "    plt.plot(df[col])\n",
    "plt.xlabel(\"KEYSIZE\")\n",
    "plt.ylabel(\"Average normalized Hamming distance\")\n",
    "plt.show()"
   ]
  },
  {
   "cell_type": "markdown",
   "id": "a9044c96-ede9-4111-9c01-c3965171bc1c",
   "metadata": {},
   "source": [
    "Now for our solution:"
   ]
  },
  {
   "cell_type": "code",
   "execution_count": 9,
   "id": "6a988bd6-8df0-4329-9e9f-f7a503775532",
   "metadata": {},
   "outputs": [
    {
     "name": "stdout",
     "output_type": "stream",
     "text": [
      "I'm back and I'm ringin' the bell \n",
      "A rockin' on the mike while the fly girls yell \n",
      "In ecstasy in the back of me \n",
      "Well that's my DJ Deshay cuttin' all them Z's \n",
      "Hittin' hard and the girlies goin' crazy \n",
      "Vanilla's on the mike, man I'm not lazy. \n",
      "\n",
      "I'm lettin' my drug kick in \n",
      "It controls my mouth and I begin \n",
      "To just let it flow, let my concepts go \n",
      "My posse's to the side yellin', Go Vanilla Go! \n",
      "\n",
      "Smooth 'cause that's the way I will be \n",
      "And if you don't give a damn, then \n",
      "Why you starin' at me \n",
      "So get off 'cause I control the stage \n",
      "There's no dissin' allowed \n",
      "I'm in my own phase \n",
      "The girlies sa y they love me and that is ok \n",
      "And I can dance better than any kid n' play \n",
      "\n",
      "Stage 2 -- Yea the one ya' wanna listen to \n",
      "It's off my head so let the beat play through \n",
      "So I can funk it up and make it sound good \n",
      "1-2-3 Yo -- Knock on some wood \n",
      "For good luck, I like my rhymes atrocious \n",
      "Supercalafragilisticexpialidocious \n",
      "I'm an effect and that you can bet \n",
      "I can take a fly girl and make her wet. \n",
      "\n",
      "I'm like Samson -- Samson to Delilah \n",
      "There's no denyin', You can try to hang \n",
      "But you'll keep tryin' to get my style \n",
      "Over and over, practice makes perfect \n",
      "But not if you're a loafer. \n",
      "\n",
      "You'll get nowhere, no place, no time, no girls \n",
      "Soon -- Oh my God, homebody, you probably eat \n",
      "Spaghetti with a spoon! Come on and say it! \n",
      "\n",
      "VIP. Vanilla Ice yep, yep, I'm comin' hard like a rhino \n",
      "Intoxicating so you stagger like a wino \n",
      "So punks stop trying and girl stop cryin' \n",
      "Vanilla Ice is sellin' and you people are buyin' \n",
      "'Cause why the freaks are jockin' like Crazy Glue \n",
      "Movin' and groovin' trying to sing along \n",
      "All through the ghetto groovin' this here song \n",
      "Now you're amazed by the VIP posse. \n",
      "\n",
      "Steppin' so hard like a German Nazi \n",
      "Startled by the bases hittin' ground \n",
      "There's no trippin' on mine, I'm just gettin' down \n",
      "Sparkamatic, I'm hangin' tight like a fanatic \n",
      "You trapped me once and I thought that \n",
      "You might have it \n",
      "So step down and lend me your ear \n",
      "'89 in my time! You, '90 is my year. \n",
      "\n",
      "You're weakenin' fast, YO! and I can tell it \n",
      "Your body's gettin' hot, so, so I can smell it \n",
      "So don't be mad and don't be sad \n",
      "'Cause the lyrics belong to ICE, You can call me Dad \n",
      "You're pitchin' a fit, so step back and endure \n",
      "Let the witch doctor, Ice, do the dance to cure \n",
      "So come up close and don't be square \n",
      "You wanna battle me -- Anytime, anywhere \n",
      "\n",
      "You thought that I was weak, Boy, you're dead wrong \n",
      "So come on, everybody and sing this song \n",
      "\n",
      "Say -- Play that funky music Say, go white boy, go white boy go \n",
      "play that funky music Go white boy, go white boy, go \n",
      "Lay down and boogie and play that funky music till you die. \n",
      "\n",
      "Play that funky music Come on, Come on, let me hear \n",
      "Play that funky music white boy you say it, say it \n",
      "Play that funky music A little louder now \n",
      "Play that funky music, white boy Come on, Come on, Come on \n",
      "Play that funky music\n"
     ]
    }
   ],
   "source": [
    "# Find probable KEYSIZE\n",
    "\n",
    "ks = min((distance(ks, 10), ks) for ks in keysize_range)[1]\n",
    "\n",
    "# If we think of blocks as rows, decrypt columns\n",
    "\n",
    "cols = []\n",
    "\n",
    "for i in range(ks):  # for each column\n",
    "    nrows = (len(ciphertext)-1)//ks+1\n",
    "    if (nrows-1)*ks+i+1 > len(ciphertext):  # handle ragged last row\n",
    "        nrows -= 1\n",
    "    col_ctext = bytes(ciphertext[j*ks+i] for j in range(nrows))\n",
    "    cols.append(brute_force_decrypt_xor(col_ctext)[\"plaintext\"])\n",
    "\n",
    "# Transpose and output\n",
    "\n",
    "plaintext = bytes(\n",
    "    cols[i][j]\n",
    "    for j in range(len(cols[0]))\n",
    "    for i in range(len(cols))\n",
    "    if j < len(cols[i])\n",
    ")\n",
    "\n",
    "print(plaintext.decode(\"ASCII\").strip())"
   ]
  },
  {
   "cell_type": "markdown",
   "id": "1ac52288-15d9-4bab-9672-a24156c4bba2",
   "metadata": {},
   "source": [
    "## Challenge 7: AES in ECB mode\n",
    "\n",
    "The Base64-encoded content [in this file](https://cryptopals.com/static/challenge-data/7.txt) has been encrypted via AES-128 in ECB mode under the key\n",
    "\n",
    "```\n",
    "\"YELLOW SUBMARINE\"\n",
    "```\n",
    "\n",
    "(case-sensitive, without the quotes; exactly 16 characters; I like \"YELLOW SUBMARINE\" because it's exactly 16 bytes long, and now you do too).\n",
    "\n",
    "Decrypt it.  You know the key, after all.\n",
    "\n",
    "Easiest way: use OpenSSL::Cipher and give it AES-128-ECB as the cipher.\n",
    "\n",
    "> **Do this with code.**\n",
    ">\n",
    "> You can obviously decrypt this using the OpenSSL command-line tool, but we're having you get ECB working in code for a reason.  You'll need it a lot later on, and not just for attacking ECB.\n",
    "\n",
    "---\n",
    "\n",
    "The plaintext contains 4 bytes of PKCS#7 padding, which we remove."
   ]
  },
  {
   "cell_type": "code",
   "execution_count": 10,
   "id": "182d2f7e-afdb-4062-8bc8-b085b0ff18f1",
   "metadata": {},
   "outputs": [
    {
     "name": "stdout",
     "output_type": "stream",
     "text": [
      "I'm back and I'm ringin' the bell \n",
      "A rockin' on the mike while the fly girls yell \n",
      "In ecstasy in the back of me \n",
      "Well that's my DJ Deshay cuttin' all them Z's \n",
      "Hittin' hard and the girlies goin' crazy \n",
      "Vanilla's on the mike, man I'm not lazy. \n",
      "\n",
      "I'm lettin' my drug kick in \n",
      "It controls my mouth and I begin \n",
      "To just let it flow, let my concepts go \n",
      "My posse's to the side yellin', Go Vanilla Go! \n",
      "\n",
      "Smooth 'cause that's the way I will be \n",
      "And if you don't give a damn, then \n",
      "Why you starin' at me \n",
      "So get off 'cause I control the stage \n",
      "There's no dissin' allowed \n",
      "I'm in my own phase \n",
      "The girlies sa y they love me and that is ok \n",
      "And I can dance better than any kid n' play \n",
      "\n",
      "Stage 2 -- Yea the one ya' wanna listen to \n",
      "It's off my head so let the beat play through \n",
      "So I can funk it up and make it sound good \n",
      "1-2-3 Yo -- Knock on some wood \n",
      "For good luck, I like my rhymes atrocious \n",
      "Supercalafragilisticexpialidocious \n",
      "I'm an effect and that you can bet \n",
      "I can take a fly girl and make her wet. \n",
      "\n",
      "I'm like Samson -- Samson to Delilah \n",
      "There's no denyin', You can try to hang \n",
      "But you'll keep tryin' to get my style \n",
      "Over and over, practice makes perfect \n",
      "But not if you're a loafer. \n",
      "\n",
      "You'll get nowhere, no place, no time, no girls \n",
      "Soon -- Oh my God, homebody, you probably eat \n",
      "Spaghetti with a spoon! Come on and say it! \n",
      "\n",
      "VIP. Vanilla Ice yep, yep, I'm comin' hard like a rhino \n",
      "Intoxicating so you stagger like a wino \n",
      "So punks stop trying and girl stop cryin' \n",
      "Vanilla Ice is sellin' and you people are buyin' \n",
      "'Cause why the freaks are jockin' like Crazy Glue \n",
      "Movin' and groovin' trying to sing along \n",
      "All through the ghetto groovin' this here song \n",
      "Now you're amazed by the VIP posse. \n",
      "\n",
      "Steppin' so hard like a German Nazi \n",
      "Startled by the bases hittin' ground \n",
      "There's no trippin' on mine, I'm just gettin' down \n",
      "Sparkamatic, I'm hangin' tight like a fanatic \n",
      "You trapped me once and I thought that \n",
      "You might have it \n",
      "So step down and lend me your ear \n",
      "'89 in my time! You, '90 is my year. \n",
      "\n",
      "You're weakenin' fast, YO! and I can tell it \n",
      "Your body's gettin' hot, so, so I can smell it \n",
      "So don't be mad and don't be sad \n",
      "'Cause the lyrics belong to ICE, You can call me Dad \n",
      "You're pitchin' a fit, so step back and endure \n",
      "Let the witch doctor, Ice, do the dance to cure \n",
      "So come up close and don't be square \n",
      "You wanna battle me -- Anytime, anywhere \n",
      "\n",
      "You thought that I was weak, Boy, you're dead wrong \n",
      "So come on, everybody and sing this song \n",
      "\n",
      "Say -- Play that funky music Say, go white boy, go white boy go \n",
      "play that funky music Go white boy, go white boy, go \n",
      "Lay down and boogie and play that funky music till you die. \n",
      "\n",
      "Play that funky music Come on, Come on, let me hear \n",
      "Play that funky music white boy you say it, say it \n",
      "Play that funky music A little louder now \n",
      "Play that funky music, white boy Come on, Come on, Come on \n",
      "Play that funky music\n"
     ]
    }
   ],
   "source": [
    "from cryptography.hazmat.primitives import padding\n",
    "from cryptography.hazmat.primitives.ciphers import Cipher, algorithms, modes\n",
    "\n",
    "decryptor = Cipher(algorithms.AES128(b\"YELLOW SUBMARINE\"), modes.ECB()).decryptor()\n",
    "unpadder = padding.PKCS7(128).unpadder()\n",
    "\n",
    "input = base64.b64decode(open(\"07.in\").read())\n",
    "output = unpadder.update(decryptor.update(input) + decryptor.finalize()) + unpadder.finalize()\n",
    "\n",
    "print(output.decode(\"ASCII\").strip())"
   ]
  },
  {
   "cell_type": "markdown",
   "id": "1133abc8-146d-42ac-87e4-71a0de60133b",
   "metadata": {},
   "source": [
    "## Challenge 8: Detect AES in ECB mode\n",
    "\n",
    "[In this file](https://cryptopals.com/static/challenge-data/8.txt) are a bunch of hex-encoded ciphertexts.\n",
    "\n",
    "One of them has been encrypted with ECB.\n",
    "\n",
    "Detect it.\n",
    "\n",
    "Remember that the problem with ECB is that it is stateless and deterministic; the same 16 byte plaintext block will always produce the same 16 byte ciphertext.\n",
    "\n",
    "---\n",
    "\n",
    "It's not entirely clear what this challenge is asking for.  Surely we're not being asked to decrypt AES-encrypted texts as we did with simple XOR encryption above.  Looking around, other solvers seemed to interpret this as simply looking for the ciphertext with the most repeated blocks.  And indeed there is exactly one ciphertext that has repeated blocks."
   ]
  },
  {
   "cell_type": "code",
   "execution_count": 11,
   "id": "8e0997f7-ddc0-4149-8cac-e27974d00202",
   "metadata": {},
   "outputs": [
    {
     "name": "stdout",
     "output_type": "stream",
     "text": [
      "Counter({10: 203, 7: 1})\n"
     ]
    }
   ],
   "source": [
    "def num_unique_blocks(ctext):\n",
    "    assert len(ctext)%16 == 0\n",
    "    return len(set(ctext[i:i+16] for i in range(0, len(ctext), 16)))\n",
    "\n",
    "print(Counter(num_unique_blocks(bytes.fromhex(l.strip())) for l in open(\"08.in\")))"
   ]
  }
 ],
 "metadata": {
  "kernelspec": {
   "display_name": "Python 3 (ipykernel)",
   "language": "python",
   "name": "python3"
  },
  "language_info": {
   "codemirror_mode": {
    "name": "ipython",
    "version": 3
   },
   "file_extension": ".py",
   "mimetype": "text/x-python",
   "name": "python",
   "nbconvert_exporter": "python",
   "pygments_lexer": "ipython3",
   "version": "3.10.13"
  }
 },
 "nbformat": 4,
 "nbformat_minor": 5
}
