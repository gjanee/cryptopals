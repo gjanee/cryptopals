{
 "cells": [
  {
   "cell_type": "markdown",
   "id": "6a67fb5e-5730-45b4-9033-35fbb7211853",
   "metadata": {},
   "source": [
    "# Set 2: Block crypto\n",
    "\n",
    "This is the first of several sets on **block cipher cryptography**.  This is bread-and-butter crypto, the kind you'll see implemented in most web software that does crypto.\n",
    "\n",
    "This set is **relatively easy**.  People that clear set 1 tend to clear set 2 somewhat quickly.\n",
    "\n",
    "Three of the challenges in this set are extremely valuable in breaking real-world crypto; one allows you to decrypt messages encrypted in the default mode of AES, and the other two allow you to rewrite messages encrypted in the most popular modes of AES.\n",
    "\n",
    "- [Preliminaries](#Preliminaries)\n",
    "- [Challenge 9: Implement PKCS#7 padding](#Challenge-9:-Implement-PKCS#7-padding)\n",
    "- [Challenge 10: Implement CBC mode](#Challenge-10:-Implement-CBC-mode)\n",
    "- [Challenge 11: An ECB/CBC detection oracle](#Challenge-11:-An-ECB/CBC-detection-oracle)\n",
    "- [Challenge 12. Byte-at-a-time ECB decryption (Simple)](#Challenge-12:-Byte-at-a-time-ECB-decryption-(Simple))\n",
    "- [Challenge 13: ECB cut-and-paste](#Challenge-13:-ECB-cut-and-paste)\n",
    "- [Challenge 14: Byte-at-a-time ECB decryption (Harder)](#Challenge-14:-Byte-at-a-time-ECB-decryption-(Harder))\n",
    "- [Challenge 15: PKCS#7 padding validation](#Challenge-15:-PKCS#7-padding-validation)\n",
    "- [Challenge 16: CBC bitflipping attacks](#Challenge-16:-CBC-bitflipping-attacks)\n",
    "\n",
    "## Preliminaries"
   ]
  },
  {
   "cell_type": "code",
   "execution_count": 1,
   "id": "43157561-1818-4425-a630-7ee297c92802",
   "metadata": {},
   "outputs": [],
   "source": [
    "import base64\n",
    "from random import randbytes, random, randint\n",
    "\n",
    "# From pyca/cryptography\n",
    "from cryptography.hazmat.primitives.ciphers import Cipher, algorithms, modes\n",
    "\n",
    "def xor(x, y):\n",
    "    return bytes(xb^yb for xb, yb in zip(x, y))\n",
    "\n",
    "def A(n):\n",
    "    return b\"A\"*n"
   ]
  },
  {
   "cell_type": "markdown",
   "id": "e523ac15-3254-4ea0-9707-6eb4863db9f2",
   "metadata": {},
   "source": [
    "## Challenge 9: Implement PKCS#7 padding\n",
    "\n",
    "A block cipher transforms a fixed-sized block (usually 8 or 16 bytes) of plaintext into ciphertext.  But we almost never want to transform a single block; we encrypt irregularly-sized messages.\n",
    "\n",
    "One way we account for irregularly-sized messages is by padding, creating a plaintext that is an even multiple of the blocksize.  The most popular padding scheme is called PKCS#7.\n",
    "\n",
    "So: pad any block to a specific block length, by appending the number of bytes of padding to the end of the block.  For instance,\n",
    "\n",
    "```\n",
    "YELLOW SUBMARINE\n",
    "```\n",
    "\n",
    "... padded to 20 bytes would be:\n",
    "\n",
    "```\n",
    "YELLOW SUBMARINE\\x04\\x04\\x04\\x04\n",
    "```\n",
    "\n",
    "---\n",
    "\n",
    "PKCS\\#7 padding is defined in [RFC 2315 §10.3](https://datatracker.ietf.org/doc/html/rfc2315#section-10.3) and is implemented, as we saw in set 1, by `cryptography.hazmat.primitives.padding.PKCS7`.  But here's our implementation.  Notice that the function always adds some padding; it's never idempotent.  As a result it is unambiguously reversible."
   ]
  },
  {
   "cell_type": "code",
   "execution_count": 2,
   "id": "45d70825-2aa1-48e3-84cc-f71d49aec1d6",
   "metadata": {},
   "outputs": [
    {
     "name": "stdout",
     "output_type": "stream",
     "text": [
      "b'YELLOW SUBMARINE\\x04\\x04\\x04\\x04'\n"
     ]
    }
   ],
   "source": [
    "def pad_pkcs7(text, blocksize):\n",
    "    n = blocksize - len(text)%blocksize\n",
    "    return text + bytes([n]*n)\n",
    "\n",
    "print(pad_pkcs7(b\"YELLOW SUBMARINE\", 20))"
   ]
  },
  {
   "cell_type": "markdown",
   "id": "dacf4097-1ec7-432a-9bdf-2f024252732c",
   "metadata": {},
   "source": [
    "And to remove padding:"
   ]
  },
  {
   "cell_type": "code",
   "execution_count": 3,
   "id": "1302d969-94bd-411c-beaa-fb1b57fab5f7",
   "metadata": {},
   "outputs": [
    {
     "name": "stdout",
     "output_type": "stream",
     "text": [
      "b'YELLOW SUBMARINE'\n"
     ]
    }
   ],
   "source": [
    "def unpad_pkcs7(text):\n",
    "    assert len(text) > 0, \"invalid padding\"\n",
    "    n = text[-1]\n",
    "    assert len(text) >= n and all(text[-i] == n for i in range(1, n+1)), \"invalid padding\"\n",
    "    return text[:-n]\n",
    "\n",
    "print(unpad_pkcs7(pad_pkcs7(b\"YELLOW SUBMARINE\", 20)))"
   ]
  },
  {
   "cell_type": "markdown",
   "id": "dab41e99-2d42-4ed2-a47e-99beedafa882",
   "metadata": {},
   "source": [
    "## Challenge 10: Implement CBC mode\n",
    "\n",
    "CBC mode is a block cipher mode that allows us to encrypt irregularly-sized messages, despite the fact that a block cipher natively only transforms individual blocks.\n",
    "\n",
    "In CBC mode, each ciphertext block is added to the next plaintext block before the next call to the cipher core.\n",
    "\n",
    "The first plaintext block, which has no associated previous ciphertext block, is added to a \"fake 0th ciphertext block\" called the _initialization vector_, or IV.\n",
    "\n",
    "Implement CBC mode by hand by taking the ECB function you wrote earlier, making it _encrypt_ instead of _decrypt_ (verify this by decrypting whatever you encrypt to test), and using your XOR function from the previous exercise to combine them.\n",
    "\n",
    "[The file here](https://cryptopals.com/static/challenge-data/10.txt) is intelligible (somewhat) when CBC decrypted against \"YELLOW SUBMARINE\" with an IV of all ASCII 0 (\\x00\\x00\\x00 &c).\n",
    "\n",
    "---\n",
    "\n",
    "We test our implementation by decrypting the given file using OpenSSL, then re-encrypting it with our own algorithm and checking that the result matches the original."
   ]
  },
  {
   "cell_type": "code",
   "execution_count": 4,
   "id": "141bb00b-c4c2-47f1-a156-607b192b2f01",
   "metadata": {
    "tags": []
   },
   "outputs": [
    {
     "name": "stdout",
     "output_type": "stream",
     "text": [
      "True\n"
     ]
    }
   ],
   "source": [
    "def aes_128_ecb_encrypt(ptext, key, pad=True):\n",
    "    if pad:\n",
    "        ptext = pad_pkcs7(ptext, 16)\n",
    "    encryptor = Cipher(algorithms.AES128(key), modes.ECB()).encryptor()\n",
    "    return encryptor.update(ptext) + encryptor.finalize()\n",
    "\n",
    "def aes_128_cbc_encrypt(ptext, key, iv=bytes(16)):\n",
    "    ptext = pad_pkcs7(ptext, 16)\n",
    "    ctext = bytearray()\n",
    "    block = iv\n",
    "    for i in range(0, len(ptext), 16):\n",
    "        block = aes_128_ecb_encrypt(xor(block, ptext[i:i+16]), key, pad=False)\n",
    "        ctext.extend(block)\n",
    "    return bytes(ctext)\n",
    "\n",
    "key = b\"YELLOW SUBMARINE\"\n",
    "decryptor = Cipher(algorithms.AES128(key), modes.CBC(bytes(16))).decryptor()\n",
    "ciphertext = base64.b64decode(open(\"10.in\").read())\n",
    "plaintext = unpad_pkcs7(decryptor.update(ciphertext) + decryptor.finalize())\n",
    "\n",
    "print(aes_128_cbc_encrypt(plaintext, key) == ciphertext)"
   ]
  },
  {
   "cell_type": "markdown",
   "id": "92cd73e4-391c-4621-9678-135029f1f9c7",
   "metadata": {},
   "source": [
    "For good measure we implement the corresponding decryption functions."
   ]
  },
  {
   "cell_type": "code",
   "execution_count": 5,
   "id": "5e16fa75-bf7d-4541-b468-ff87e5ff8313",
   "metadata": {},
   "outputs": [
    {
     "name": "stdout",
     "output_type": "stream",
     "text": [
      "True\n"
     ]
    }
   ],
   "source": [
    "def aes_128_ecb_decrypt(ctext, key, unpad=True):\n",
    "    decryptor = Cipher(algorithms.AES128(key), modes.ECB()).decryptor()\n",
    "    ptext = decryptor.update(ctext) + decryptor.finalize()\n",
    "    if unpad:\n",
    "        ptext = unpad_pkcs7(ptext)\n",
    "    return ptext\n",
    "\n",
    "def aes_128_cbc_decrypt(ctext, key, iv=bytes(16)):\n",
    "    ptext = bytearray()\n",
    "    prev_block = iv\n",
    "    for i in range(0, len(ctext), 16):\n",
    "        ptext.extend(xor(prev_block, aes_128_ecb_decrypt(ctext[i:i+16], key, unpad=False)))\n",
    "        prev_block = ctext[i:i+16]\n",
    "    return unpad_pkcs7(bytes(ptext))\n",
    "\n",
    "# Verify that implementation matches OpenSSL\n",
    "print(aes_128_cbc_decrypt(ciphertext, key) == plaintext)"
   ]
  },
  {
   "cell_type": "markdown",
   "id": "c54b45e1-899a-4c6c-94b8-bf541cf31839",
   "metadata": {},
   "source": [
    "## Challenge 11: An ECB/CBC detection oracle\n",
    "\n",
    "Now that you have ECB and CBC working:\n",
    "\n",
    "Write a function to generate a random AES key; that's just 16 random bytes.\n",
    "\n",
    "Write a function that encrypts data under an unknown key --- that is, a function that generates a random key and encrypts under it.\n",
    "\n",
    "The function should look like:\n",
    "\n",
    "```\n",
    "encryption_oracle(your-input)\n",
    "=> [MEANINGLESS JIBBER JABBER]\n",
    "```\n",
    "\n",
    "Under the hood, have the function _append_ 5-10 bytes (count chosen randomly) _before_ the plaintext and 5-10 bytes _after_ the plaintext.\n",
    "\n",
    "Now, have the function choose to encrypt under ECB 1/2 the time, and under CBC the other half (just use random IVs each time for CBC).  Use rand(2) to decide which to use.\n",
    "\n",
    "Detect the block cipher mode the function is using each time.  You should end up with a piece of code that, pointed at a block box that might be encrypting ECB or CBC, tells you which one is happening.\n",
    "\n",
    "---\n",
    "\n",
    "If we pass in 3 arbitrary but identical 16-byte input blocks, then output blocks 1 and 2 will be identical iff ECB mode was used as illustrated below:\n",
    "\n",
    "```\n",
    "       +-----------------+-----------------+-----------------+\n",
    "       |  input block 0  |  input block 1  |  input block 2  |\n",
    "-------v-----------------v-----------------v-----------------v-----------\n",
    " random AAAAAAAAAA AAAAAA AAAAAAAAAA AAAAAA AAAAAAAAAA AAAAAA random pad\n",
    "^-----------------^-----------------^-----------------^-----------------^\n",
    "|  output block 0 |  output block 1 |  output block 2 |  output block 3 |\n",
    "+-----------------+-----------------+-----------------+-----------------+\n",
    "```"
   ]
  },
  {
   "cell_type": "code",
   "execution_count": 6,
   "id": "322beed7-ac29-4cd7-b052-5e89f1e23402",
   "metadata": {},
   "outputs": [
    {
     "name": "stdout",
     "output_type": "stream",
     "text": [
      "True\n"
     ]
    }
   ],
   "source": [
    "def encryption_oracle(ptext):\n",
    "    input = randbytes(randint(5, 10)) + ptext + randbytes(randint(5, 10))\n",
    "    if random() < .5:\n",
    "        return {\"mode\": \"ECB\", \"ciphertext\": aes_128_ecb_encrypt(input, randbytes(16))}\n",
    "    else:\n",
    "        return {\"mode\": \"CBC\", \"ciphertext\": aes_128_cbc_encrypt(input, randbytes(16), randbytes(16))}\n",
    "\n",
    "def cipher_mode_detection_test():\n",
    "    # Return True if mode is correctly detected\n",
    "    r = encryption_oracle(A(48))\n",
    "    return (r[\"mode\"] == \"ECB\") ^ (r[\"ciphertext\"][16:32] == r[\"ciphertext\"][32:48]) == 0\n",
    "\n",
    "print(all(cipher_mode_detection_test() for _ in range(100)))"
   ]
  },
  {
   "cell_type": "markdown",
   "id": "11fb37ac-1116-4454-97d2-79796d072ed5",
   "metadata": {},
   "source": [
    "## Challenge 12: Byte-at-a-time ECB decryption (Simple)\n",
    "\n",
    "Copy your oracle function to a new function that encrypts buffers under ECB mode using a consistent but unknown key (for instance, assign a single random key, once, to a global variable).\n",
    "\n",
    "Now take that same function and have it append to the plaintext, BEFORE ENCRYPTING, the following string:\n",
    "\n",
    "```\n",
    "Um9sbGluJyBpbiBteSA1LjAKV2l0aCBteSByYWctdG9wIGRvd24gc28gbXkg\n",
    "aGFpciBjYW4gYmxvdwpUaGUgZ2lybGllcyBvbiBzdGFuZGJ5IHdhdmluZyBq\n",
    "dXN0IHRvIHNheSBoaQpEaWQgeW91IHN0b3A/IE5vLCBJIGp1c3QgZHJvdmUg\n",
    "YnkK\n",
    "```\n",
    "\n",
    "Base64 decode the string before appending it.  _Do not base64 decode the string by hand; make your code do it._  The point is that you don't know its contents.\n",
    "\n",
    "What you have now is a function that produces:\n",
    "\n",
    "```\n",
    "AES-128-ECB(your-string || unknown-string, random-key)\n",
    "```\n",
    "\n",
    "It turns out: you can decrypt \"unknown-string\" with repeated calls to the oracle function!\n",
    "\n",
    "Here's roughly how:\n",
    "\n",
    "1. Feed identical bytes of your-string to the function 1 at a time --- start with 1 byte (\"A\"), then \"AA\", then \"AAA\" and so on.  Discover the block size of the cipher.  You know it, but do this step anyway.\n",
    "\n",
    "2. Detect that the function is using ECB.  You already know, but do this step anyways.\n",
    "\n",
    "3. Knowing the block size, craft an input block that is exactly 1 byte short (for instance, if the block size is 8 bytes, make \"AAAAAAA\").  Think about what the oracle function is going to put in that last byte position.\n",
    "\n",
    "4. Make a dictionary of every possible last byte by feeding different strings to the oracle; for instance, \"AAAAAAAA\", \"AAAAAAAB\", \"AAAAAAAC\", remembering the first block of each invocation.\n",
    "\n",
    "5. Match the output of the one-byte-short input to one of the entries in your dictionary.  You've now discovered the first byte of unknown-string.\n",
    "\n",
    "6. Repeat for the next byte.\n",
    "\n",
    "---\n",
    "\n",
    "This might be called an incremental dictionary attack.  To illustrate, imagine the block size is 3 and the unknown string is `mnopqr`.  Then the procedure outlined above would proceed like so:\n",
    "\n",
    "|input string | lookup prefix | cipher input | ciphertext block examined | byte discovered |\n",
    "|-------------|---------------|--------------|---------------------------|-----------------|\n",
    "| `AA`        | `AA_`         | `AAmnopqr`   | 0                         | `m`             |\n",
    "| `A`         | `Am_`         | `Amnopqr`    | 0                         | `n`             |\n",
    "|             | `mn_`         | `mnopqr`     | 0                         | `o`             |\n",
    "| `AA`        | `no_`         | `AAmnopqr`   | 1                         | `p`             |\n",
    "| `A`         | `op_`         | `Amnopqr`    | 1                         | `q`             |\n",
    "|             | `pq_`         | `mnopqr`     | 1                         | `r`             |\n",
    "\n",
    "The length of the unknown string is obscured by the blockiness of the cipher, but we detect it by counting how many input bytes can be supplied before the returned ciphertext size increases by another block.  (Though we do not check it here, the step increase in the size of the ciphertext would reveal the block size.)\n",
    "\n",
    "The code below anticipates [Challenge 14](#Challenge-14:-Byte-at-a-time-ECB-decryption-(Harder)), in which a random prefix is placed before the input string.  The `rpl` argument is the length of the random prefix and `fl` is the number of bytes needed to pad (or \"fill\") the prefix to the next block boundary; both are zero for this challenge.\n",
    "\n",
    "`detect_unknown_string_length` begins in this state:\n",
    "\n",
    "```\n",
    "|<-                                         l ->|\n",
    "|<-    rpl ->|<- fl ->|\n",
    "----------------------+--------------------------\n",
    "random-prefix AAAAAAA | unknown-string pad.......\n",
    "----------------------+--------------------------\n",
    "                      | sb (starting block)\n",
    "```\n",
    "\n",
    "And ends in this state:\n",
    "\n",
    "```\n",
    "|<-                                         l ->|\n",
    "|<-    rpl ->|<- fl ->|<- isl ->|\n",
    "----------------------+-------------------------+----------------\n",
    "random-prefix AAAAAAA | AAAAAAAA unknown-string | new 16-byte pad\n",
    "----------------------+-------------------------+----------------\n",
    "                      | sb (starting block)\n",
    "```"
   ]
  },
  {
   "cell_type": "code",
   "execution_count": 7,
   "id": "52a0cdc0-48dc-487f-8035-e57e129f7700",
   "metadata": {},
   "outputs": [
    {
     "name": "stdout",
     "output_type": "stream",
     "text": [
      "Rollin' in my 5.0\n",
      "With my rag-top down so my hair can blow\n",
      "The girlies on standby waving just to say hi\n",
      "Did you stop? No, I just drove by\n"
     ]
    }
   ],
   "source": [
    "random_key = randbytes(16)\n",
    "\n",
    "unknown_string = base64.b64decode(\"\"\"\n",
    "Um9sbGluJyBpbiBteSA1LjAKV2l0aCBteSByYWctdG9wIGRvd24gc28gbXkg\n",
    "aGFpciBjYW4gYmxvdwpUaGUgZ2lybGllcyBvbiBzdGFuZGJ5IHdhdmluZyBq\n",
    "dXN0IHRvIHNheSBoaQpEaWQgeW91IHN0b3A/IE5vLCBJIGp1c3QgZHJvdmUg\n",
    "YnkK\"\"\")\n",
    "\n",
    "# We will discover the value of `unknown_string` without looking at\n",
    "# the variable other than to use it for encryption below.\n",
    "\n",
    "def mystery_encrypt(ptext):\n",
    "    return aes_128_ecb_encrypt(ptext + unknown_string, random_key)\n",
    "\n",
    "def detect_unknown_string_length(rpl=0):\n",
    "    fl = (-rpl)%16  # fill length\n",
    "    l = len(mystery_encrypt(A(fl)))\n",
    "    for isl in range(1, 16):\n",
    "        if len(mystery_encrypt(A(fl+isl))) > l:\n",
    "            return l-rpl-fl-isl\n",
    "    return l-rpl-fl-16\n",
    "\n",
    "def solve_mystery(rpl=0):\n",
    "    discovered = bytearray()\n",
    "    fl = (-rpl)%16  # fill length\n",
    "    sb = (rpl+fl)//16  # starting block\n",
    "    isl = 15  # input string length\n",
    "    bn = sb  # block number\n",
    "    for _ in range(detect_unknown_string_length(rpl)):\n",
    "        input_string = A(isl)\n",
    "        lookup_prefix = (input_string + discovered)[-15:]\n",
    "        lookup_dict = {\n",
    "            mystery_encrypt(A(fl) + lookup_prefix + bytes([b]))[sb*16:(sb+1)*16] : b\n",
    "            for b in range(256)\n",
    "        }\n",
    "        block = mystery_encrypt(A(fl) + input_string)[bn*16:(bn+1)*16]\n",
    "        discovered.append(lookup_dict[block])\n",
    "        isl -= 1\n",
    "        if isl < 0:\n",
    "            isl = 15\n",
    "            bn += 1\n",
    "    return bytes(discovered)\n",
    "\n",
    "print(solve_mystery().decode(\"ASCII\").strip())"
   ]
  },
  {
   "cell_type": "markdown",
   "id": "05f85611-f164-4752-86ec-ce7a4f6a28b0",
   "metadata": {},
   "source": [
    "And for further confirmation:"
   ]
  },
  {
   "cell_type": "code",
   "execution_count": 8,
   "id": "6d7a9f68-4893-4c94-b322-9a30cdbbc0ff",
   "metadata": {},
   "outputs": [
    {
     "name": "stdout",
     "output_type": "stream",
     "text": [
      "True\n"
     ]
    }
   ],
   "source": [
    "print(solve_mystery() == unknown_string)"
   ]
  },
  {
   "cell_type": "markdown",
   "id": "cc11c52d-63c0-47f4-8479-1bb0240ca197",
   "metadata": {},
   "source": [
    "## Challenge 13: ECB cut-and-paste\n",
    "\n",
    "Write a k=v parsing routine, as if for a structured cookie.  The routine should take:\n",
    "\n",
    "```\n",
    "foo=bar&baz=qux&zap=zazzle\n",
    "```\n",
    "\n",
    "... and produce:\n",
    "\n",
    "```\n",
    "{\n",
    "  foo: 'bar',\n",
    "  baz: 'qux',\n",
    "  zap: 'zazzle'\n",
    "}\n",
    "```\n",
    "\n",
    "(you know, the object; I don't care if you convert it to JSON).\n",
    "\n",
    "Now write a function that encodes a user profile in that format, given an email address.  You should have something like:\n",
    "\n",
    "```\n",
    "profile_for(\"foo@bar.com\")\n",
    "```\n",
    "\n",
    "... and it should produce:\n",
    "\n",
    "```\n",
    "{\n",
    "  email: 'foo@bar.com',\n",
    "  uid: 10,\n",
    "  role: 'user'\n",
    "}\n",
    "```\n",
    "\n",
    "... encoded as:\n",
    "\n",
    "```\n",
    "email=foo@bar.com&uid=10&role=user\n",
    "```\n",
    "\n",
    "Your \"profile_for\" function should _not_ allow encoding metacharacters (& and =).  Eat them, quote them, whatever you want to do, but don't let people set their email address to \"foo\\@bar.com&role=admin\".\n",
    "\n",
    "Now, two more easy functions.  Generate a random AES key, then:\n",
    "\n",
    "1. Encrypt the encoded user profile under the key; \"provide\" that to the \"attacker\".\n",
    "2. Decrypt the encoded user profile and parse it.\n",
    "\n",
    "Using only the user input to profile_for() (as an oracle to generate \"valid\" ciphertexts) and the ciphertexts themselves, make a role=admin profile."
   ]
  },
  {
   "cell_type": "code",
   "execution_count": 9,
   "id": "35d472a5-06c0-4254-89eb-e2f8cf129c6e",
   "metadata": {},
   "outputs": [
    {
     "data": {
      "text/plain": [
       "{'email': 'gregjanee@gmail.com', 'uid': '10', 'role': 'admin'}"
      ]
     },
     "execution_count": 9,
     "metadata": {},
     "output_type": "execute_result"
    }
   ],
   "source": [
    "def encode_dict(d):\n",
    "    return \"&\".join(f\"{k}={v}\" for k, v in d.items())\n",
    "\n",
    "def decode_dict(s):\n",
    "    return {p.split(\"=\")[0]: p.split(\"=\")[1] for p in s.split(\"&\")}\n",
    "\n",
    "def profile_for(address, role=\"user\"):\n",
    "    assert \"&\" not in address and \"=\" not in address, \"invalid character in address\"\n",
    "    return {\"email\": address, \"uid\": \"10\", \"role\": role}\n",
    "\n",
    "def encrypt_profile(p):\n",
    "    return aes_128_ecb_encrypt(bytes(encode_dict(p), encoding=\"ASCII\"), random_key)\n",
    "\n",
    "def decrypt_profile(text):\n",
    "    return decode_dict(aes_128_ecb_decrypt(text, random_key).decode(\"ASCII\"))\n",
    "\n",
    "admin_profile = encrypt_profile(profile_for(\"gregjanee@gmail.com\", role=\"admin\"))\n",
    "decrypt_profile(admin_profile)"
   ]
  },
  {
   "cell_type": "markdown",
   "id": "3727f02b-4dc6-4e8f-a989-404117506261",
   "metadata": {},
   "source": [
    "## Challenge 14: Byte-at-a-time ECB decryption (Harder)\n",
    "\n",
    "Take your oracle function from \\#12.  Now generate a random count of random bytes and prepend this string to every plaintext.  You are now doing:\n",
    "\n",
    "```\n",
    "AES-128-ECB(random-prefix || attacker-controlled || target-bytes, random-key)\n",
    "```\n",
    "\n",
    "Same goal: decrypt the target-bytes.\n",
    "\n",
    "> **Stop and think for a second.**\n",
    ">\n",
    "> What's harder than challenge \\#12 about doing this?  How would you overcome that obstacle?  The hint is: you're using all the tools you already have; no crazy math is required.\n",
    ">\n",
    "> Think \"STIMULUS\" and \"RESPONSE\".\n",
    "\n",
    "---\n",
    "\n",
    "Like the random key, we assume that the random prefix is consistent.  Following the cue from [Challenge 11](#Challenge-11:-An-ECB/CBC-detection-oracle), we supply an increasing number of arbitrary, but identical bytes until we observe two identical ciphertext blocks in succession.  This will require 32 bytes (for the two blocks) plus an additional 0-15 bytes to pad the remainder of the preceding random prefix:\n",
    "\n",
    "```\n",
    "                |<-                                      n ->|\n",
    "-----------------------+------------------+------------------+----------------\n",
    "...random-prefix AAAAA | AAAAAAAAAAAAAAAA | AAAAAAAAAAAAAAAA | target-bytes...\n",
    "-----------------------+------------------+------------------+----------------\n",
    "                         i\n",
    "```\n",
    "\n",
    "At which point we will have identified a clean block boundary and can proceed with the approach given in [Challenge 12](#Challenge-12:-Byte-at-a-time-ECB-decryption-(Simple)).  (Challenge 12 asked us to check that the oracle is using ECB mode.  That this approach works is evidence of that.)"
   ]
  },
  {
   "cell_type": "code",
   "execution_count": 10,
   "id": "5201e648-68bc-4325-bb13-1c8bfacad444",
   "metadata": {},
   "outputs": [
    {
     "name": "stdout",
     "output_type": "stream",
     "text": [
      "Rollin' in my 5.0\n",
      "With my rag-top down so my hair can blow\n",
      "The girlies on standby waving just to say hi\n",
      "Did you stop? No, I just drove by\n"
     ]
    }
   ],
   "source": [
    "random_prefix = randbytes(randint(1, 40))\n",
    "\n",
    "def mystery_encrypt(ptext):\n",
    "    # Revised definition\n",
    "    return aes_128_ecb_encrypt(random_prefix + ptext + unknown_string, random_key)\n",
    "\n",
    "def detect_random_prefix_length():\n",
    "    for n in range(32, 48):\n",
    "        ctext = mystery_encrypt(A(n))\n",
    "        for i in range(0, len(ctext)-16, 16):\n",
    "            if ctext[i:i+16] == ctext[i+16:i+32]:\n",
    "                return i-(n-32)\n",
    "\n",
    "print(solve_mystery(detect_random_prefix_length()).decode(\"ASCII\").strip())"
   ]
  },
  {
   "cell_type": "markdown",
   "id": "4454ca8a-4443-43b1-bad5-bc9610f9a077",
   "metadata": {},
   "source": [
    "## Challenge 15: PKCS#7 padding validation\n",
    "\n",
    "Write a function that takes a plaintext, determines if it has valid PKCS#7 padding, and strips the padding off.\n",
    "\n",
    "The string:\n",
    "\n",
    "```\n",
    "\"ICE ICE BABY\\x04\\x04\\x04\\x04\"\n",
    "```\n",
    "\n",
    "... has valid padding, and produces the result \"ICE ICE BABY\".\n",
    "\n",
    "The string:\n",
    "\n",
    "```\n",
    "\"ICE ICE BABY\\x05\\x05\\x05\\x05\"\n",
    "```\n",
    "\n",
    "... does not have valid padding, nor does:\n",
    "\n",
    "```\n",
    "\"ICE ICE BABY\\x01\\x02\\x03\\x04\"\n",
    "```\n",
    "\n",
    "If you are writing in a language with exceptions, like Python or Ruby, make your function throw an exception on bad padding.\n",
    "\n",
    "Crypto nerds know where we're going with this.  Bear with us.\n",
    "\n",
    "---\n",
    "\n",
    "Implemented under [Challenge 9](#Challenge-9:-Implement-PKCS#7-padding) above."
   ]
  },
  {
   "cell_type": "markdown",
   "id": "ffc471aa-c7dd-4129-8d75-e4be144035a2",
   "metadata": {},
   "source": [
    "## Challenge 16: CBC bitflipping attacks\n",
    "\n",
    "Generate a random AES key.\n",
    "\n",
    "Combine your padding code and CBC code to write two functions.\n",
    "\n",
    "The first function should take an arbitrary input string, prepend the string:\n",
    "\n",
    "```\n",
    "\"comment1=cooking%20MCs;userdata=\"\n",
    "```\n",
    "\n",
    "... and append the string:\n",
    "\n",
    "```\n",
    "\";comment2=%20like%20a%20pound%20of%20bacon\"\n",
    "```\n",
    "\n",
    "The function should quote out the \";\" and \"=\" characters.\n",
    "\n",
    "The function should then pad out the input to the 16-byte AES block length and encrypt it under the random AES key.\n",
    "\n",
    "The second function should decrypt the string and look for the characters \";admin=true;\" (or, equivalently, decrypt, split the string on \";\", convert each resulting string into 2-tuples, and look for the \"admin\" tuple).\n",
    "\n",
    "Return true or false based on whether the string exists.\n",
    "\n",
    "If you've written the first function properly, it should _not_ be possible to provide user input to it that will generate the string the second function is looking for.  We'll have to break the crypto to do that.\n",
    "\n",
    "Instead, modify the ciphertext (without knowledge of the AES key) to accomplish this.\n",
    "\n",
    "You're relying on the fact that in CBC mode, a 1-bit error in a ciphertext block:\n",
    "\n",
    "- Completely scrambles the block the error occurs in\n",
    "- Produces the identical 1-bit error(/edit) in the next ciphertext block.\n",
    "\n",
    "> **Stop and think for a second.**\n",
    ">\n",
    "> Before you implement this attack, answer this question: why does CBC mode have this property?\n",
    "\n",
    "---\n",
    "\n",
    "The diagram below illustrates how an error (or intentional edit!) in a ciphertext block affects the subsequent decrypted plaintext block in the corresponding position by simple XOR.\n",
    "\n",
    "![](cbc-bitflipping.png)\n",
    "\n",
    "So the strategy is this.  If we know that a particular string appears in the plaintext, and at what position, we can exploit this knowledge by XOR-ing the string with the desired replacement string (\";admin=true;\" in this case) to compute a kind of delta, and then XOR the delta with the corresponding ciphertext in the preceding block to effect that change."
   ]
  },
  {
   "cell_type": "code",
   "execution_count": 11,
   "id": "bb3cbfc9-127c-42f5-a7d5-c4bd57452790",
   "metadata": {},
   "outputs": [
    {
     "name": "stdout",
     "output_type": "stream",
     "text": [
      "False\n"
     ]
    }
   ],
   "source": [
    "def fun1(userdata):\n",
    "    return aes_128_cbc_encrypt(\n",
    "        (\n",
    "            b\"comment1=cooking%20MCs;userdata=\"\n",
    "            + userdata.replace(b\";\", b\"%3B\").replace(b\"=\", b\"%3D\")\n",
    "            + b\";comment2=%20like%20a%20pound%20of%20bacon\"\n",
    "        ),\n",
    "        random_key\n",
    "    )\n",
    "\n",
    "def fun2(ctext):\n",
    "    return b\";admin=true;\" in aes_128_cbc_decrypt(ctext, random_key)\n",
    "\n",
    "ciphertext = fun1(b\"the ;admin=true; in this string will be quoted away\")\n",
    "\n",
    "print(fun2(ciphertext))"
   ]
  },
  {
   "cell_type": "markdown",
   "id": "084ca95a-98ee-4764-9656-97a1781d0bb3",
   "metadata": {},
   "source": [
    "The plaintext that we know appears and that we exploit is `comment1=cooking%20MCs;userdata=`, specifically the 12 bytes that start block 2 (`%20MCs;userd`)."
   ]
  },
  {
   "cell_type": "code",
   "execution_count": 12,
   "id": "665a353f-417b-4707-944a-3edf4679e1ba",
   "metadata": {},
   "outputs": [
    {
     "name": "stdout",
     "output_type": "stream",
     "text": [
      "True\n"
     ]
    }
   ],
   "source": [
    "replacement_text = b\";admin=true;\"\n",
    "n = len(replacement_text)\n",
    "target_text = b\"comment1=cooking%20MCs;userdata=\"[16:16+n]\n",
    "delta = xor(target_text, replacement_text)\n",
    "new_ciphertext = xor(ciphertext[:n], delta) + ciphertext[n:]\n",
    "print(fun2(new_ciphertext))"
   ]
  },
  {
   "cell_type": "markdown",
   "id": "4e6660fc-e374-44a6-a52c-7e0fb7d11494",
   "metadata": {},
   "source": [
    "This is an interesting attack because the attacker does not know the key and does know the plaintext, yet can  modify the plaintext in a knowing and significant way.  One can imagine a webserver sending an encrypted cookie to a client, and trusting that the returned coookie must be valid because, after all, it's encrypted, right?  Oops, no.  Incorporating a message authentication code (MAC) would protect against this attack."
   ]
  }
 ],
 "metadata": {
  "kernelspec": {
   "display_name": "Python 3 (ipykernel)",
   "language": "python",
   "name": "python3"
  },
  "language_info": {
   "codemirror_mode": {
    "name": "ipython",
    "version": 3
   },
   "file_extension": ".py",
   "mimetype": "text/x-python",
   "name": "python",
   "nbconvert_exporter": "python",
   "pygments_lexer": "ipython3",
   "version": "3.10.13"
  }
 },
 "nbformat": 4,
 "nbformat_minor": 5
}
